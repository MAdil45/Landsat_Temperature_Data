{
 "cells": [
  {
   "cell_type": "markdown",
   "id": "1b87b452-37fd-4cd5-87dc-3e75a156ff7a",
   "metadata": {},
   "source": [
    "## **Downloading/Processing Temperature Files from Landsat 8 & 9.**"
   ]
  },
  {
   "cell_type": "markdown",
   "id": "032ad927-92b1-41ae-906f-fc892b81f276",
   "metadata": {},
   "source": [
    "## **Required Dependencies**"
   ]
  },
  {
   "cell_type": "code",
   "execution_count": 1,
   "id": "e204dc08-4031-42ca-bd86-927161174761",
   "metadata": {},
   "outputs": [],
   "source": [
    "\n",
    "import json\n",
    "import ee\n",
    "ee.Initialize()\n",
    "from pathlib import Path\n",
    "import os\n",
    "from glob import glob\n",
    "import rasterio\n",
    "import numpy as np\n",
    "import matplotlib.pyplot as plt\n",
    "from tqdm import tqdm as tqdm\n",
    "import seaborn as sns\n",
    "import random\n"
   ]
  },
  {
   "cell_type": "markdown",
   "id": "d9739c59-aaee-4da2-ac52-b0c55caabfe6",
   "metadata": {},
   "source": [
    "### **Path Directories**"
   ]
  },
  {
   "cell_type": "code",
   "execution_count": 2,
   "id": "1ea336dd-e23c-427f-a2aa-4db66c725ccb",
   "metadata": {
    "scrolled": true
   },
   "outputs": [
    {
     "name": "stdout",
     "output_type": "stream",
     "text": [
      "True True True True\n"
     ]
    },
    {
     "data": {
      "text/plain": [
       "(36, 14)"
      ]
     },
     "execution_count": 2,
     "metadata": {},
     "output_type": "execute_result"
    }
   ],
   "source": [
    "root_path                           =  Path(os.getcwd())\n",
    "\n",
    "landsat_8_data_path                 =  root_path / 'Landsat_8_Data/Unprocessed_Data/'\n",
    "landsat_9_data_path                 =  root_path / 'Landsat_9_Data/Unprocessed_Data/'\n",
    "\n",
    "landsat_8_processed_data_path       =  root_path / 'Landsat_8_Data/Processed_Data/'\n",
    "landsat_9_processed_data_path       =  root_path / 'Landsat_9_Data/Processed_Data/'\n",
    "\n",
    "\n",
    "landsat_8_unprocessed_tiff_files    =  glob(os.path.join(landsat_8_data_path, '*.tif'))\n",
    "landsat_9_unprocessed_tiff_files    =  glob(os.path.join(landsat_9_data_path, '*.tif'))\n",
    "\n",
    "\n",
    "print(os.path.exists(landsat_8_data_path), os.path.exists(landsat_9_data_path), \n",
    "os.path.exists(landsat_8_processed_data_path), os.path.exists(landsat_9_processed_data_path))\n",
    "\n",
    "len(landsat_8_unprocessed_tiff_files),         len(landsat_9_unprocessed_tiff_files)"
   ]
  },
  {
   "cell_type": "markdown",
   "id": "d823551e-d391-44a3-9ee5-433a3f271c01",
   "metadata": {},
   "source": [
    "## **Utilities**\n",
    "A set of helpful functions."
   ]
  },
  {
   "cell_type": "code",
   "execution_count": 3,
   "id": "34eb0a03-86a6-4a5c-bbfb-e1aa5d5e4c34",
   "metadata": {
    "scrolled": true
   },
   "outputs": [],
   "source": [
    "def landsat_8_DN2Temperature(landsat_8_unprocessed_tiff_files, landsat_8_processed_data_path):\n",
    "    \"\"\"\n",
    "\n",
    "    A Simple Function to Convert the Digital Numbers to Temperature Values.\n",
    "    Args:\n",
    "    landsat_8_unprocessed_tiff_files   :  A glob.glob list of Source GeoTiff files.\n",
    "    landsat_8_processed_data_path      :  The destination Path. \n",
    "    Return                             :  None - Simply read the files, extract the Band 10 and 11 Data, Write it to \n",
    "                                            a GeoTiff File and saved it at landsat_8_processed_data_path. \n",
    "    \n",
    "    \"\"\"\n",
    "    for tif_file in tqdm(landsat_8_unprocessed_tiff_files):\n",
    "    \n",
    "        # lets get the filename\n",
    "        file_name              =  (os.path.basename(tif_file)).split(os.path.extsep)[0]\n",
    "    \n",
    "    \n",
    "        # lets get the image id to get the constants info\n",
    "        folder_img_id          =  '_'.join(file_name.split('_')[2:])\n",
    "    \n",
    "        img_id                 =  f'LANDSAT/LC08/C01/T1_TOA/{folder_img_id}'\n",
    "    \n",
    "        # Next, Easy - Fetch the Constants from Earth Engine\n",
    "        image                  =  ee.Image(img_id)\n",
    "        K1_constant_band_10    =  image.get('K1_CONSTANT_BAND_10').getInfo()\n",
    "        K2_constant_band_10    =  image.get('K2_CONSTANT_BAND_10').getInfo()\n",
    "        Radiance_Mult_Bn_10    =  image.get('RADIANCE_MULT_BAND_10').getInfo()\n",
    "        Radiance_add_Bnd_10    =  image.get('RADIANCE_ADD_BAND_10').getInfo()\n",
    "    \n",
    "        K1_constant_band_11    =  image.get('K1_CONSTANT_BAND_11').getInfo()\n",
    "        K2_constant_band_11    =  image.get('K2_CONSTANT_BAND_11').getInfo()\n",
    "        Radiance_Mult_Bn_11    =  image.get('RADIANCE_MULT_BAND_11').getInfo()\n",
    "        Radiance_add_Bnd_11    =  image.get('RADIANCE_ADD_BAND_11').getInfo()\n",
    "    \n",
    "        # Next, lets read the image using Rasterio and extract the band 10, band 11 data. \n",
    "        with rasterio.open(tif_file) as src_fil:\n",
    "            Bn_10_data                  =  src_fil.read(10)\n",
    "            Bn_11_data                  =  src_fil.read(11)\n",
    "    \n",
    "            # lets define the temperature conversion for band 10/11\n",
    "            temperature_conversion_B10  =  K2_constant_band_10 / (np.log(K1_constant_band_10 / (Bn_10_data * Radiance_Mult_Bn_10 + Radiance_add_Bnd_10) + 1))\n",
    "            temperature_conversion_B11  =  K2_constant_band_11 / (np.log(K1_constant_band_11 / (Bn_11_data * Radiance_Mult_Bn_11 + Radiance_add_Bnd_11) + 1))\n",
    "    \n",
    "            # lets save the temperature data as a new tiff file\n",
    "            profile                     =   src_fil.profile\n",
    "            profile.update(dtype=rasterio.float32, count=2)\n",
    "    \n",
    "            dest_filename               =  '_'.join(file_name.split('_')[:2]) + '_Temperature_' + '_'.join(file_name.split('_')[2:]) + '.tif'\n",
    "            dest_file_path              =  os.path.join(landsat_8_processed_data_path, dest_filename)\n",
    "\n",
    "            \n",
    "            # Lets write the transformed temperature data to GeoTiff files. \n",
    "            with rasterio.open(dest_file_path, 'w', **profile) as dest_file:\n",
    "                \n",
    "                dest_file.write(temperature_conversion_B10.astype(rasterio.float32), 1)\n",
    "                dest_file.write(temperature_conversion_B11.astype(rasterio.float32), 2)\n",
    "\n",
    "\n",
    "def landsat_9_DN2Temperature(landsat_9_unprocessed_tiff_files, landsat_9_processed_data_path):\n",
    "    \"\"\"\n",
    "\n",
    "    A Simple Function to Convert the Digital Numbers to Temperature Values.\n",
    "    Args:\n",
    "    landsat_9_unprocessed_tiff_files  :  A glob.glob list of Source GeoTiff files.\n",
    "    landsat_9_processed_data_path     :  The destination Path. \n",
    "    Return                            :  None - Simply read the files, extract the Band 10 and 11 Data, Write it to \n",
    "                                            a GeoTiff File and saved it at landsat_8_processed_data_path. \n",
    "    \n",
    "    \"\"\"\n",
    "    for L9_tiff_files in tqdm(landsat_9_unprocessed_tiff_files):\n",
    "\n",
    "        # lets get the filename\n",
    "        file_name              =  (os.path.basename(L9_tiff_files)).split(os.path.extsep)[0]\n",
    "\n",
    "        \n",
    "        # lets get the image id to get the constants info\n",
    "        folder_img_id          =  '_'.join(file_name.split('_')[2:])\n",
    "        img_id                 =  f'LANDSAT/LC09/C02/T1_TOA/{folder_img_id}'\n",
    "        \n",
    "    \n",
    "        # Next, Easy - Fetch the Constants from Earth Engine\n",
    "        image                  =  ee.Image(img_id)\n",
    "        K1_constant_band_10    =  image.get('K1_CONSTANT_BAND_10').getInfo()\n",
    "        K2_constant_band_10    =  image.get('K2_CONSTANT_BAND_10').getInfo()\n",
    "        Radiance_Mult_Bn_10    =  image.get('RADIANCE_MULT_BAND_10').getInfo()\n",
    "        Radiance_add_Bnd_10    =  image.get('RADIANCE_ADD_BAND_10').getInfo()\n",
    "    \n",
    "        K1_constant_band_11    =  image.get('K1_CONSTANT_BAND_11').getInfo()\n",
    "        K2_constant_band_11    =  image.get('K2_CONSTANT_BAND_11').getInfo()\n",
    "        Radiance_Mult_Bn_11    =  image.get('RADIANCE_MULT_BAND_11').getInfo()\n",
    "        Radiance_add_Bnd_11    =  image.get('RADIANCE_ADD_BAND_11').getInfo()\n",
    "\n",
    "        \n",
    "        # Next, lets read the image using Rasterio and extract the band 10, band 11 data. \n",
    "        with rasterio.open(L9_tiff_files) as src_file:\n",
    "            Bn_10_data                  =  src_file.read(10)\n",
    "            Bn_11_data                  =  src_file.read(11)\n",
    "          \n",
    "    \n",
    "            # lets define the temperature conversion for band 10/11\n",
    "            temperature_conversion_B10  =  K2_constant_band_10 / (np.log(K1_constant_band_10 / (Bn_10_data * Radiance_Mult_Bn_10 + Radiance_add_Bnd_10) + 1))\n",
    "            temperature_conversion_B11  =  K2_constant_band_11 / (np.log(K1_constant_band_11 / (Bn_11_data * Radiance_Mult_Bn_11 + Radiance_add_Bnd_11) + 1))\n",
    "    \n",
    "            # lets save the temperature data as a new tiff file\n",
    "            profile                     =   src_file.profile\n",
    "            profile.update(dtype=rasterio.float32, count=2)\n",
    "    \n",
    "            dest_filename               =  '_'.join(file_name.split('_')[:2]) + '_Temperature_' + '_'.join(file_name.split('_')[2:]) + '.tif'\n",
    "            dest_file_path              =  os.path.join(landsat_9_processed_data_path, dest_filename)\n",
    "        \n",
    "    \n",
    "            \n",
    "            # Lets write the transformed temperature data to GeoTiff files. \n",
    "            with rasterio.open(dest_file_path, 'w', **profile) as dest_file:\n",
    "                \n",
    "                dest_file.write(temperature_conversion_B10.astype(rasterio.float32), 1)\n",
    "                dest_file.write(temperature_conversion_B11.astype(rasterio.float32), 2)\n",
    "           \n",
    "\n"
   ]
  },
  {
   "cell_type": "code",
   "execution_count": null,
   "id": "dad1208f-4f00-462d-9872-cdc38ad4a7c3",
   "metadata": {},
   "outputs": [],
   "source": []
  },
  {
   "cell_type": "markdown",
   "id": "44967cc5-e6f3-42c9-a617-ad5c69400ae8",
   "metadata": {},
   "source": [
    "### **DN To Temperature Conversion**"
   ]
  },
  {
   "cell_type": "markdown",
   "id": "820d5662-58f8-4d7c-afe8-bbe3b1942f61",
   "metadata": {},
   "source": [
    "#### **Landsat 8**"
   ]
  },
  {
   "cell_type": "code",
   "execution_count": 4,
   "id": "fb01e08a-f3cd-41e7-8b99-3e2c336a4135",
   "metadata": {},
   "outputs": [
    {
     "name": "stderr",
     "output_type": "stream",
     "text": [
      "100%|█████████████████████████████████████████████████████████████████████████████████████████████████████████████████████████████████| 36/36 [02:39<00:00,  4.43s/it]\n"
     ]
    }
   ],
   "source": [
    "landsat_8_DN2Temperature(landsat_8_unprocessed_tiff_files, landsat_8_processed_data_path)"
   ]
  },
  {
   "cell_type": "markdown",
   "id": "4c1d4ac1-6d4b-4c3e-89f5-5f29cf659eb7",
   "metadata": {},
   "source": [
    "#### **Landsat 9**"
   ]
  },
  {
   "cell_type": "code",
   "execution_count": null,
   "id": "9fc4025c-0b50-46ce-8eba-2247a4cdc043",
   "metadata": {},
   "outputs": [
    {
     "name": "stderr",
     "output_type": "stream",
     "text": [
      " 14%|██████████████████▌                                                                                                               | 2/14 [00:11<01:09,  5.78s/it]"
     ]
    }
   ],
   "source": [
    "landsat_9_DN2Temperature(landsat_9_unprocessed_tiff_files, landsat_9_processed_data_path)"
   ]
  },
  {
   "cell_type": "code",
   "execution_count": null,
   "id": "49e43117-7fff-4096-9087-edb831976318",
   "metadata": {},
   "outputs": [],
   "source": []
  },
  {
   "cell_type": "markdown",
   "id": "e6c2d6e9-a4ff-4208-91e5-daa38f3d0443",
   "metadata": {},
   "source": [
    "### **Processed Data Path**"
   ]
  },
  {
   "cell_type": "code",
   "execution_count": null,
   "id": "b8d74bde-30eb-4a47-b5cd-86d745b9e342",
   "metadata": {},
   "outputs": [],
   "source": [
    "landsat_8_processed_tiff_files         =   glob(os.path.join(landsat_8_processed_data_path, '*.tif'))\n",
    "landsat_9_processed_tiff_files         =   glob(os.path.join(landsat_9_processed_data_path, '*.tif'))\n",
    "len(landsat_8_processed_tiff_files),       len(landsat_9_processed_tiff_files)"
   ]
  },
  {
   "cell_type": "markdown",
   "id": "f7e88f42-8558-48b3-815f-035ca740689d",
   "metadata": {},
   "source": [
    "## **Data Visualization**"
   ]
  },
  {
   "cell_type": "markdown",
   "id": "e8876d7d-143f-47ee-bd72-045d5737e609",
   "metadata": {},
   "source": [
    "### **Landsat 8 Visualiztion**"
   ]
  },
  {
   "cell_type": "code",
   "execution_count": null,
   "id": "ad731cd1-a4ad-4134-abc0-c1f21caec0d8",
   "metadata": {
    "scrolled": true
   },
   "outputs": [],
   "source": [
    "for L8_tif_file in landsat_8_processed_tiff_files:\n",
    "\n",
    "    complete_l8_tiff_files = [\n",
    "                            'Lake_Champlain_Temperature_LC08_014029_20210810.tif', 'Lake_Champlain_Temperature_LC08_014029_20210826.tif',\n",
    "                            'Lake_Champlain_Temperature_LC08_014029_20210911.tif', 'Lake_Champlain_Temperature_LC08_014029_20211013.tif', \n",
    "                            'Lake_Champlain_Temperature_LC08_014029_20211029.tif',\n",
    "                         ]\n",
    "    \n",
    "    if os.path.basename(L8_tif_file) not in complete_l8_tiff_files: continue\n",
    "    \n",
    "    with rasterio.open(L8_tif_file, 'r') as src_file:\n",
    "        B10_temp  = src_file.read(1)\n",
    "        B11_temp  = src_file.read(2)\n",
    "    fig, axs = plt.subplots(1, 2, figsize=(12, 6))\n",
    "    img1 = axs[0].imshow(B10_temp, cmap='hot',  interpolation='none')\n",
    "    img2 = axs[1].imshow(B11_temp, cmap='hot',  interpolation='none')\n",
    "    plt.colorbar(img1, ax=axs[0])\n",
    "    plt.colorbar(img2, ax=axs[1])\n",
    "    plot_title = os.path.basename(L8_tif_file).replace('Lake_Champlain_Temperature_', '').replace('.tif', '')\n",
    "    axs[0].set_title(f'B10 Temperature Data of File {plot_title}', fontsize = 10, fontweight='bold')\n",
    "    axs[1].set_title(f\"B11 Temperature Data of File {plot_title}\", fontsize = 10, fontweight='bold')\n",
    "    plt.show()"
   ]
  },
  {
   "cell_type": "code",
   "execution_count": null,
   "id": "54a1adad-70d1-4e93-beaf-c121d926117b",
   "metadata": {},
   "outputs": [],
   "source": []
  },
  {
   "cell_type": "markdown",
   "id": "50b022da-0993-44e8-9e4b-74aacc28555a",
   "metadata": {},
   "source": [
    "### **Landsat 9 Visualization**"
   ]
  },
  {
   "cell_type": "code",
   "execution_count": null,
   "id": "ea73e57a-4943-4186-83b6-28260ae6e977",
   "metadata": {
    "scrolled": true
   },
   "outputs": [],
   "source": [
    "for L9_tif_file in landsat_9_processed_tiff_files:\n",
    "\n",
    "    complete_L9_tiff_files = [\n",
    "                            'Lake_Champlain_Temperature_LC09_013029_20211104.tif', 'Lake_Champlain_Temperature_LC09_014029_20211109.tif',\n",
    "                            'Lake_Champlain_Temperature_LC09_014029_20211114.tif', 'Lake_Champlain_Temperature_LC09_014029_20211224.tif', \n",
    "                         ]\n",
    "    \n",
    "    if os.path.basename(L9_tif_file) not in complete_L9_tiff_files: continue\n",
    "    \n",
    "    with rasterio.open(L9_tif_file, 'r') as src_file:\n",
    "        B10_temp  = src_file.read(1)\n",
    "        B11_temp  = src_file.read(2)\n",
    "    fig, axs = plt.subplots(1, 2, figsize=(12, 6))\n",
    "    img1 = axs[0].imshow(B10_temp, cmap='hot',  interpolation='none')\n",
    "    img2 = axs[1].imshow(B11_temp, cmap='hot',  interpolation='none')\n",
    "    plt.colorbar(img1, ax=axs[0])\n",
    "    plt.colorbar(img2, ax=axs[1])\n",
    "    plot_title = os.path.basename(L9_tif_file).replace('Lake_Champlain_Temperature_', '').replace('.tif', '')\n",
    "    axs[0].set_title(f'B10 Temperature Data of File {plot_title}', fontsize = 10, fontweight='bold')\n",
    "    axs[1].set_title(f\"B11 Temperature Data of File {plot_title}\", fontsize = 10, fontweight='bold')\n",
    "    plt.show()"
   ]
  },
  {
   "cell_type": "code",
   "execution_count": null,
   "id": "4133becb-9890-477d-a479-6eebca3b5b24",
   "metadata": {},
   "outputs": [],
   "source": []
  },
  {
   "cell_type": "code",
   "execution_count": null,
   "id": "4554a013-c8bd-4e85-b107-9fc6830b1e66",
   "metadata": {},
   "outputs": [],
   "source": []
  },
  {
   "cell_type": "code",
   "execution_count": null,
   "id": "901ab7a5-be07-4071-bfbd-1b5e77a53d86",
   "metadata": {},
   "outputs": [],
   "source": []
  }
 ],
 "metadata": {
  "kernelspec": {
   "display_name": "Python 3 (ipykernel)",
   "language": "python",
   "name": "python3"
  },
  "language_info": {
   "codemirror_mode": {
    "name": "ipython",
    "version": 3
   },
   "file_extension": ".py",
   "mimetype": "text/x-python",
   "name": "python",
   "nbconvert_exporter": "python",
   "pygments_lexer": "ipython3",
   "version": "3.9.16"
  }
 },
 "nbformat": 4,
 "nbformat_minor": 5
}
